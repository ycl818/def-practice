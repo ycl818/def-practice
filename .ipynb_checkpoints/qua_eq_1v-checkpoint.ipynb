{
 "cells": [
  {
   "cell_type": "code",
   "execution_count": 12,
   "metadata": {},
   "outputs": [
    {
     "name": "stdin",
     "output_type": "stream",
     "text": [
      "Input parameter a: 2\n",
      "Input parameter b: -3\n",
      "Input parameter c: -5\n"
     ]
    },
    {
     "name": "stdout",
     "output_type": "stream",
     "text": [
      "The result of this equation is: 2.5 , -1.0\n"
     ]
    }
   ],
   "source": [
    "import math\n",
    "def equation(a,b,c):\n",
    "    d=b**2-4*a*c\n",
    "    if d>=0:\n",
    "        m=(-b+math.sqrt(d)) / (2*a)\n",
    "        n=(-b-math.sqrt(d)) / (2*a)\n",
    "        return str(m) +' , '+ str(n)\n",
    "    else:\n",
    "        return 'no root'\n",
    "a=int(input(\"Input parameter a:\"))\n",
    "b=int(input(\"Input parameter b:\"))\n",
    "c=int(input(\"Input parameter c:\"))\n",
    "result = equation(a,b,c)\n",
    "print('The result of this equation is:',result)"
   ]
  },
  {
   "cell_type": "code",
   "execution_count": null,
   "metadata": {},
   "outputs": [],
   "source": []
  }
 ],
 "metadata": {
  "kernelspec": {
   "display_name": "Python 3",
   "language": "python",
   "name": "python3"
  },
  "language_info": {
   "codemirror_mode": {
    "name": "ipython",
    "version": 3
   },
   "file_extension": ".py",
   "mimetype": "text/x-python",
   "name": "python",
   "nbconvert_exporter": "python",
   "pygments_lexer": "ipython3",
   "version": "3.8.3"
  }
 },
 "nbformat": 4,
 "nbformat_minor": 4
}
